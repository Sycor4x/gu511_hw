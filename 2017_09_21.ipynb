{
 "cells": [
  {
   "cell_type": "markdown",
   "metadata": {},
   "source": [
    "# Exercises due by EOD 2017.09.21"
   ]
  },
  {
   "cell_type": "markdown",
   "metadata": {},
   "source": [
    "## goal"
   ]
  },
  {
   "cell_type": "markdown",
   "metadata": {},
   "source": [
    "In this set of exercises, we will review some of the most basic and useful `linux` shell commands and build a shell script to perform a simple etl download process.\n",
    "\n",
    "after we have done that, we will create a `conda` environment, install several useful packages into that environment, do a bit o' data science, and create some plots"
   ]
  },
  {
   "cell_type": "markdown",
   "metadata": {},
   "source": [
    "## method of delivery"
   ]
  },
  {
   "cell_type": "markdown",
   "metadata": {},
   "source": [
    "as mentioned in our first lecture, the method of delivery may change from assignment to assignment. we will include this section in every assignment to provide an overview of how we expect homework results to be submitted, and to provide background notes or explanations for \"new\" delivery concepts or methods."
   ]
  },
  {
   "cell_type": "markdown",
   "metadata": {},
   "source": [
    "last week we set up an `ssh` connection option to an `ec2` server owned by us (Carlos and me).\n",
    "\n",
    "this week you will create two files (one shell script and one `conda` envrionment file) and copy them to our `ec2` server.\n",
    "\n",
    "1. **shell script**: the first half of this assignment will be figuring out a sequence of `bash` commands to perform a set of tasks. Once you have figured out all of these steps, you will be asked to compile them into a single bash script.\n",
    "2. **`conda` environment file**: the second half of this assignment will be to set up a `conda` environment and generate an `environment.yml` file\n",
    "\n",
    "the way you will deliver these two files is by **securely copying the bash script and notebook file to our `ssh` server**.\n",
    "\n",
    "for `hw2` you submitted to us a desired user name, your public ip address, and your public ssh key. we have configured *our* `ec2` server such that you should be able to sign in to it using `ssh`.\n",
    "\n",
    "details:\n",
    "\n",
    "+ exercise 1A *or* 1B\n",
    "    + you only need to complete one of these two\n",
    "    + the result of several steps will be a single shell script file named `gu511_download_A.sh` or `gu511_download_B.sh`, depending on which item you complete\n",
    "    + you will turn in this script in the final exercise\n",
    "+ exercise 2\n",
    "    + in this exercise you will install `miniconda` on your `ec2` server\n",
    "+ exercise 3\n",
    "    + in this exercise you will create a `conda` environment and install some items into it\n",
    "    + you will then create an `environment.yml` file specifying the state of your `conda` environment\n",
    "    + you will turn in this script in the final exercise\n",
    "+ exercise 4\n",
    "    + you will **secure copy (`scp`)** two files to my `ec2` server:\n",
    "        + the script you wrote in exercise 1\n",
    "            + this will result in a file `~/gu511_download_{A, B}.sh` in *your* user directory on *my* `ec2` server\n",
    "        + the `environment.yml` file you created in exercise 3\n",
    "    + I will execute that shell script and that notebook as your user to verify it works as expected\n",
    "    \n",
    "so, in summary: you will copy two files (`.sh` and `.ipynb`) to a home directory on an `ec2` server"
   ]
  },
  {
   "cell_type": "markdown",
   "metadata": {},
   "source": [
    "## exercise 1: creating a useful bash script "
   ]
  },
  {
   "cell_type": "markdown",
   "metadata": {},
   "source": [
    "both of the following will be graded equivalently, so choose based on your familiarity with linux or desire for a challenge"
   ]
  },
  {
   "cell_type": "markdown",
   "metadata": {},
   "source": [
    "### exercise 1.A: creating a \"useful\" bash script (linux beginners)"
   ]
  },
  {
   "cell_type": "markdown",
   "metadata": {},
   "source": [
    "we're going to write a bash script that will download current weather information at DCA (Reagan National Airport). we'll do this in stages:\n",
    "\n",
    "1. create a directory to hold our data\n",
    "2. download the current weather and delay status for DCA (Reagan Washington National airport)\n",
    "3. print a status message indicating whether or not we were successful to a log file\n",
    "\n",
    "to create this script, we will move one step at a time; the final script will just be all of the commands put together into one script.\n",
    "\n",
    "along the way, we will want to make sure that all of the commands we execute are *repeatable*: we should be able to run this script a *first* time (and it will do any setup we may need that first time), and then *again* (so it will be okay that this setup is already done, and not fail)"
   ]
  },
  {
   "cell_type": "markdown",
   "metadata": {},
   "source": [
    "#### create a directory\n",
    "\n",
    "write a command to make a directory `~/data/weather/`"
   ]
  },
  {
   "cell_type": "markdown",
   "metadata": {},
   "source": [
    "#### make sure your \"create a directory\" command is *repeatable*\n",
    "\n",
    "try running the command you just wrote *again* -- what happens?\n",
    "\n",
    "in order to make this command repeatable, you will need to specify some flags to this command such that it will:\n",
    "\n",
    "1. create both `~/data` and `~/data/weather` if they don't exist\n",
    "    1. this is necessary the *first* time the script runs\n",
    "2. to not to throw an error if that directory already exists\n",
    "    1. this is necesary the *other* times the script runs\n",
    "\n",
    "*hint: if you know how to make a directory, try `man [COMMAND]` to see how to make sure no error is thrown if a directory already exists*"
   ]
  },
  {
   "cell_type": "markdown",
   "metadata": {},
   "source": [
    "#### download the current weather and delay status for DCA\n",
    "\n",
    "the FAA (Federal Aviation Administration) has created [a RESTful `xml` and `json` formatted endpoint](http://services.faa.gov/docs/services/airport/) for basic information about airports -- thanks, FFA!\n",
    "\n",
    "the endpoint of that API is http://services.faa.gov/docs/services/airport/airportCode, and it expects one of two values for the \"format\" method:\n",
    "\n",
    "+ `application/xml`\n",
    "+ `application/json`\n",
    "\n",
    "let's open DCA's `json` formatted output. head to http://services.faa.gov/airport/status/DCA?format=application/json in your browser.\n",
    "\n",
    "using a command line tool, download the json results of that API call to a file named \n",
    "\n",
    "`~/data/weather/dca.weather.json`"
   ]
  },
  {
   "cell_type": "markdown",
   "metadata": {},
   "source": [
    "#### get the status code from the download request\n",
    "\n",
    "you just successfully wrote a linux command that can download the DCA json information from the API and wrote it to a file. any time that command runs, it will either be *successful* or *unsuccessful*.\n",
    "\n",
    "after you run that command, get the **exit status** of that command and print it to the terminal."
   ]
  },
  {
   "cell_type": "markdown",
   "metadata": {},
   "source": [
    "#### print a status message to a log file\n",
    "\n",
    "let's get the following for a status message:\n",
    "\n",
    "1. the current time\n",
    "2. the result of the previous command (the download command) -- just as an error code, nothing more complicated than that\n",
    "\n",
    "the end result should be a line formatted like\n",
    "\n",
    "```\n",
    "YYYY-mm-dd HH:MM:SS    gu511_download_A.sh    command status code was: [status code here]\n",
    "```\n",
    "\n",
    "write a command to save the current time to a variable called `$NOW`.\n",
    "\n",
    "once you can construct such a line, *append* that line to a log file at `~/data/weather/download.log`"
   ]
  },
  {
   "cell_type": "markdown",
   "metadata": {},
   "source": [
    "#### combine all of the above into a bash script\n",
    "\n",
    "create a file called `gu511_download_A.sh` by filling in the following template:\n",
    "\n",
    "```bash\n",
    "!/usr/bin/bash\n",
    "# when this script is run, the line above tells the\n",
    "# command line what program (binary) to use to\n",
    "# execute the commands\n",
    "\n",
    "# the following line(s) creates the directory \n",
    "# ~/data/weather if needed\n",
    "FILL THIS IN\n",
    "\n",
    "# the following line(s) downloads the current weather \n",
    "# and delay status for DCA into ~/data/weather\n",
    "FILL THIS IN\n",
    "\n",
    "# the following line(s) write a log message to file \n",
    "# indicating status code of previous line \n",
    "FILL THIS IN\n",
    "\n",
    "# exit with the most recent error code -- you can\n",
    "# leave this line alone\n",
    "exit $?\n",
    "```"
   ]
  },
  {
   "cell_type": "markdown",
   "metadata": {},
   "source": [
    "#### submit this file: see exercise 4 below"
   ]
  },
  {
   "cell_type": "markdown",
   "metadata": {},
   "source": [
    "### exercise 1.B: create a *useful* bash script (advanced linux users)"
   ]
  },
  {
   "cell_type": "markdown",
   "metadata": {},
   "source": [
    "we're going to write a bash script that will download an arbitrary number of urls from a text file in a highly parallel way. we'll write this script in stages:\n",
    "\n",
    "1. create a directory to hold our downloaded data\n",
    "2. download a list of urls from a text file\n",
    "\n",
    "to create this script, we will move one step at a time; the final script will just be all of the commands put together into one script"
   ]
  },
  {
   "cell_type": "markdown",
   "metadata": {},
   "source": [
    "#### create a test csv\n",
    "\n",
    "execute the following commands to create a list of test urls for downloading:\n",
    "\n",
    "```bash\n",
    "echo www.google.com >> /tmp/test.urls\n",
    "echo www.georgetown.edu >> /tmp/test.urls\n",
    "echo www.elderresearch.com >> /tmp/test.urls\n",
    "echo www.twitter.com >> /tmp/test.urls\n",
    "echo www.facebook.com >> /tmp/test.urls\n",
    "```"
   ]
  },
  {
   "cell_type": "markdown",
   "metadata": {},
   "source": [
    "#### create a directory\n",
    "\n",
    "write a command to make a directory `~/data/weather/`"
   ]
  },
  {
   "cell_type": "markdown",
   "metadata": {},
   "source": [
    "#### make sure your \"create a directory\" command is *repeatable*\n",
    "\n",
    "try running the command you just wrote *again* -- what happens?\n",
    "\n",
    "in order to make this command repeatable, you will need to specify some flags to this command such that it will:\n",
    "\n",
    "1. create both `~/data` and `~/data/weather` if they don't exist\n",
    "    1. this is necessary the *first* time the script runs\n",
    "2. to not to throw an error if that directory already exists\n",
    "    1. this is necesary the *other* times the script runs"
   ]
  },
  {
   "cell_type": "markdown",
   "metadata": {},
   "source": [
    "#### write a command to print the contents of `test.csv` of urls to `stdout`\n",
    "\n",
    "print the contents of `test.csv` to the terminal (for piping to a later function)"
   ]
  },
  {
   "cell_type": "markdown",
   "metadata": {},
   "source": [
    "#### use `xargs` to pipe the contents of `test.urls` to the `echo` function\n",
    "\n",
    "soon we will write a function which will take a *single* url and download it. to pass many urls to this script and to create several forks (separate processes which will work in parallel) we will use the `xargs` command.\n",
    "\n",
    "let's get some practice with the `xargs` command before trying to use it for our download function. in particular, let's look at the following flags:\n",
    "\n",
    "1. `-P` or `--max-procs`: specify the maximum number of separate processes we should start (default is 1, 0 is interpreted as \"maximum number possible\")\n",
    "2. `-n`: in conjunction with `-P`, the number of items passed to each process\n",
    "3. `-I`: specify which sequence of characters in the command to follow should be replaced with the item passed in by `xargs`. a somewhat common option is `{}` because it is unlikely to be meaningful in any command that follows. that must be escaped, though -- see below\n",
    "\n",
    "as an example, check out the results of the following:\n",
    "\n",
    "```bash\n",
    "cat /tmp/test.urls | xargs -P 100 -n 3 -I{} echo url is \\{\\}\n",
    "```"
   ]
  },
  {
   "cell_type": "markdown",
   "metadata": {},
   "source": [
    "#### `curl` one of those urls\n",
    "\n",
    "take one of those urls -- say, www.google.com -- and download it to a file. do the following:\n",
    "\n",
    "1. run it in \"silent\" mode\n",
    "2. cap the maximum time the whole download operation should take at 10 seconds\n",
    "3. write the contents of that download to a file in `~/data/downloads` with a the same name as the final portion (the `basename` of that url)\n",
    "\n",
    "*hint*: suppose we have the url is a bash variable `$URL`. we could write\n",
    "\n",
    "```bash\n",
    "curl [silent flag and maximum download time flag] $URL > ~/data/downloads/$(basename $URL)\n",
    "```\n",
    "\n",
    "the `basename` piece is necessary for urls which are more complicated than just `www.xxxxxxxx.com`, such as `www.xxxxxxxx.com/a/longer/path/with?stuff=x&other_stuff=y`\n",
    "\n",
    "verify that the downloaded contents for one test url match the source on the corresponding webpage"
   ]
  },
  {
   "cell_type": "markdown",
   "metadata": {},
   "source": [
    "#### export that `curl` statement as a function\n",
    "\n",
    "you can create a bash function using the syntax\n",
    "\n",
    "```bash\n",
    "function my_function_name {\n",
    "    # do bash stuff\n",
    "}\n",
    "```\n",
    "\n",
    "arguments are passed to this function as bash variables `$1`, `$2`, and so on, such that if you write\n",
    "\n",
    "```bash\n",
    "my_function_name arg1 arg2 arg3 arg4\n",
    "```\n",
    "\n",
    "these will be \"available\" within the body of the function as\n",
    "\n",
    "| variable name | value |\n",
    "|---------------|-------|\n",
    "| `$1`          | arg1  |\n",
    "| `$2`          | arg2  |\n",
    "| `$3`          | arg3  |\n",
    "| `$4`          | arg4  |\n",
    "\n",
    "for example, if we wanted to turn our echo command up above into a super l33t re-usable function, we could write\n",
    "\n",
    "```bash\n",
    "function l33t_url_echo {\n",
    "    echo \"the url is $1\"\n",
    "}\n",
    "\n",
    "# test it out\n",
    "l33t_url_echo www.google.com\n",
    "```\n",
    "\n",
    "we could also make this available in other bash shells be `export`-ing it:\n",
    "\n",
    "```bash\n",
    "export -f l33t_url_echo\n",
    "```\n",
    "\n",
    "so, let's talk about **what you should actually do**:\n",
    "\n",
    "1. convert your `curl` statement from before into a bash function that will take a url as a parameter\n",
    "2. export it for use in other bash sessions"
   ]
  },
  {
   "cell_type": "markdown",
   "metadata": {},
   "source": [
    "#### use that function with `xargs` on your test urls\n",
    "\n",
    "for each of the urls filtered by `xargs` we want to run the newly-minted `bash` function with that url as the argument.\n",
    "\n",
    "for example, if we wanted to use our `l33t_url_echo` function from above, we could write:\n",
    "\n",
    "```bash\n",
    "# ...it pays to read ahead...\n",
    "cat /tmp/test.urls | xargs -P 100 -n 3 -I{} bash -c l33t_url_echo\\ \\{\\}\n",
    "```\n",
    "\n",
    "in the above, the actual *command* we are executing with `xargs` is the `bash` command, which\n",
    "\n",
    "1. starts a new `bash` shell\n",
    "2. executes the *command* following flag `-c` (that's what the `-c` flag *is*)\n",
    "3. replaces the occurrence of `\\{\\}` with whatever url is available\n",
    "4. special characters such as spaces and braces need to be escaped to be passed in using the `-c` command\n",
    "\n",
    "write your own version of the command above, replacing `l33t_url_echo` with the function you created previously.\n",
    "\n",
    "delete all of the items in `~/data/downloads` to start from scratch, and run the whole `cat + xargs + your_function` line. verify it downloads each test url."
   ]
  },
  {
   "cell_type": "markdown",
   "metadata": {},
   "source": [
    "#### replace `/tmp/test.urls` with a variable path name\n",
    "\n",
    "create a variable `$URL_FILE` with a value of `/tmp/test.urls`, and invoke the previous `cat` + `xargs` + `your_function` line using the variable name instead of the hard-coded path"
   ]
  },
  {
   "cell_type": "markdown",
   "metadata": {},
   "source": [
    "#### understand command line arguments\n",
    "\n",
    "the way that bash handles command line arguments to a shell script is identical to the way functions receive them -- the first word (first in a space-separated list) is stored to a variable `$1`, the second to `$2`, and so on. \n",
    "\n",
    "a common convention for command line arguments is to supply a default value, and this can be done with a bash variable resolution construct:\n",
    "\n",
    "```bash\n",
    "MY_VAR=${TRY_THIS_FIRST:-USE_THIS_IF_NOTHING_FOUND}\n",
    "```\n",
    "\n",
    "if `$TRY_THIS_FIRST` exists, bash resolves that expression to the value of `$TRY_THIS_FIRST` and uses it to set the value of `$MY_VAR`. if it does not, it will then try evaluating the *exact string* following the `:-` characters.\n",
    "\n",
    "In the example above,\n",
    "\n",
    "+ if `$TRY_THIS_FIRST` is set to some value, `MY_VAR` will be set to that value\n",
    "+ if `$TRY_THIS_FIRST` is *not* set to some value, `MY_VAR` will be set to the `USE_THIS_IF_NOTHING_FOUND`\n",
    "    + if `USE_THIS_IF_NOTHING_FOUND` is *itself* a variable expression (e.g. `$USER`), it will be resolved and then assigned to the variable `MY_VAR`\n",
    "    \n",
    "a common use of this is setting default command line argument values. for example, suppose I create a file `my_script.sh` that contains the following:\n",
    "\n",
    "```bash\n",
    "!/usr/bin/bash\n",
    "\n",
    "FIRST_ARGUMENT=${1:-defaultval}\n",
    "\n",
    "echo $FIRST_ARGUMENT\n",
    "```\n",
    "\n",
    "if I call\n",
    "\n",
    "```bash\n",
    "bash my_script.sh\n",
    "```\n",
    "\n",
    "there is no argument passed and therefore `$1` will not be set. This will result in `FIRST_ARGUMENT` being set to the default value `defaultval`, and the script will print `defaultval` to the terminal.\n",
    "\n",
    "if, on the other hand, I call\n",
    "\n",
    "```bash\n",
    "bash my_script.sh \"print me\"\n",
    "```\n",
    "\n",
    "bash will create a variable `$1` with a value `print me`, and the script will end up printing `print me` to the terminal."
   ]
  },
  {
   "cell_type": "markdown",
   "metadata": {},
   "source": [
    "#### combine all of the above into a bash script\n",
    "\n",
    "create a file called `gu511_download_B.sh` to the following format:\n",
    "\n",
    "```bash\n",
    "#!/usr/bin/bash\n",
    "# when this script is run, the line above tells the\n",
    "# command line what program (binary) to use to\n",
    "# execute the commands\n",
    "\n",
    "# allow the executing user to pass their own list of urls,\n",
    "# but keep /tmp/test.urls as a default\n",
    "URL_FILE=${1:-/tmp/test.urls}\n",
    "\n",
    "# the following line(s) creates the directory \n",
    "# ~/data/downloads if needed\n",
    "FILL THIS IN\n",
    "\n",
    "# the following line(s) define our single-url curl\n",
    "# download function\n",
    "FILL THIS IN\n",
    "\n",
    "# the following line(s) export that function for use\n",
    "# in other bash session\n",
    "FILL THIS IN\n",
    "\n",
    "# the following line is the \"cat + xargs + your_function\"\n",
    "# line from the previous step\n",
    "FILL THIS IN\n",
    "\n",
    "# exit with the most recent error code -- you can\n",
    "# leave this line alone\n",
    "exit $?\n",
    "```"
   ]
  },
  {
   "cell_type": "markdown",
   "metadata": {},
   "source": [
    "##### postscript\n",
    "\n",
    "*if everything went according to plan, this script should be among the fastest download programs I've ever come across (no exageration there). it was useful enough that I put it and some variants on a github repo I own.*\n",
    "\n",
    "*...it **really** pays to read ahead...*"
   ]
  },
  {
   "cell_type": "markdown",
   "metadata": {},
   "source": [
    "#### submit this file: see exercise 4 below"
   ]
  },
  {
   "cell_type": "markdown",
   "metadata": {},
   "source": [
    "## exercise 2: installing `miniconda` on your `ec2` server"
   ]
  },
  {
   "cell_type": "markdown",
   "metadata": {},
   "source": [
    "this will be a straightforward list of steps to execute from the terminal of your `ec2` server in order to install the `anaconda python` distribution.\n",
    "\n",
    "1. on your laptop\n",
    "    1. in your browser, go to [the `miniconda` download page](https://conda.io/miniconda.html)\n",
    "    2. find the `python 3.6` installer for `64-bit linux`\n",
    "    3. *copy the download link address*, don't just click\n",
    "        1. at the time of writing, this link was: `https://repo.continuum.io/miniconda/Miniconda3-latest-Linux-x86_64.sh`\n",
    "2. on your `ec2` server\n",
    "    1. download this file: `wget [THE URL FROM ABOVE]`. this will create a file (say) `Miniconda3-latest-Linux-x86_64.sh` in your current working directory.\n",
    "    2. execute that bash script: `bash Miniconda3-latest-Linux-x86_64.sh`\n",
    "        1. read the license. scroll through.... yes... yes... okay... fine... sure... yes... okay... type `yes` to accept\n",
    "        2. the default installation directory is fine but change it if you'd like\n",
    "        3. I will recommend you *do* change your `PATH` -- the default is `no`, so you have to actively type `yes` at this prompt.\n",
    "    3. if you experience an error or abort, you may have created the install directory. if you see an error: `ERROR: File or directory already exists: /home/ubuntu/miniconda3`, you can and should `rm` that directory"
   ]
  },
  {
   "cell_type": "markdown",
   "metadata": {},
   "source": [
    "## exercise 3: creating a `conda` environment and an `environment.yml` file\n",
    "\n",
    "first, read [the documentation on creating and managing conda environments](https://conda.io/docs/user-guide/tasks/manage-environments.html).\n",
    "\n",
    "once you've done that, create a conda environment called `gu511` with `python` version 3.5 and install into *that environment* (not your root environment) the following packages:\n",
    "\n",
    "+ `jupyter`\n",
    "+ `pandas`\n",
    "+ `plotly`\n",
    "+ `scikit-learn`\n",
    "\n",
    "use the [environment sharing `export` command](https://conda.io/docs/user-guide/tasks/manage-environments.html#sharing-an-environment) to create an `environment.yml` file.\n",
    "\n",
    "view that file with `less` and figure out what it is saying about your `conda` environment, and how some one might use that file"
   ]
  },
  {
   "cell_type": "markdown",
   "metadata": {},
   "source": [
    "#### submit this file: see exercise 4 below"
   ]
  },
  {
   "cell_type": "markdown",
   "metadata": {},
   "source": [
    "## exercise 4: submitting your homework\n",
    "\n",
    "### tangent about how your `ssh` access was set up\n",
    "\n",
    "in last week's exercises you created a public key and sent it to me along with a desired user name and an ip address.\n",
    "\n",
    "after receiving them, I used the following script to create your users and configure `ssh` access:\n",
    "\n",
    "```bash\n",
    "#!/bin/bash\n",
    "\n",
    "# command line args\n",
    "USERNAME=${1}\n",
    "HOME=/home/$USERNAME\n",
    "IP=${2}\n",
    "PUBKEY=${3}\n",
    "\n",
    "# create user and set up home / .ssh director\n",
    "adduser --disabled-password $USERNAME\n",
    "mkdir -p $HOME/.ssh\n",
    "chown $USERNAME:$USERNAME $HOME/.ssh\n",
    "\n",
    "# add public key to authorized_keys\n",
    "echo $PUBKEY >> $HOME/.ssh/authorized_keys\n",
    "chown -R $USERNAME:$USERNAME $HOME/.ssh/\n",
    "chmod 700 $HOME/.ssh\n",
    "chmod 600 $HOME/.ssh/authorized_keys\n",
    "\n",
    "# use awscli to update ec2 port settings\n",
    "aws --region us-east-1 ec2 authorize-security-group-ingress \\\n",
    "    --group-name ssh_for_hw \\\n",
    "    --protocol tcp \\\n",
    "    --port 22 \\\n",
    "    --cidr $IP/32\n",
    "```\n",
    "\n",
    "I then sent you the information you need to sign in:\n",
    "\n",
    "1. the user name you requested and received\n",
    "2. the server's ip address\n",
    "\n",
    "you should then be able to log in to my `ec2` server with the command\n",
    "\n",
    "```bash\n",
    "ssh -i /path/to/your/private/key [YOUR USER NAME HERE]@[MY EC2 IP ADDRESS HERE]\n",
    "```"
   ]
  },
  {
   "cell_type": "markdown",
   "metadata": {},
   "source": [
    "### actually doing exercise 4\n",
    "\n",
    "the point of this exercise is to use `scp` (the SSH copy command) or some secure copy application (e.g. WinSCP or Filezilla) to copy your bash script file to my `ec2` server.\n",
    "\n",
    "you should copy it into your home directory (`~`, `/home/[YOUR USER NAME HERE]`) and keep the file name as `gu511_download_A.sh` or `gu511_download_B.sh`, depending on whether you completed `1.A` or `1.B` above.\n",
    "\n",
    "if you are using `scp`, the general structure of the command is\n",
    "\n",
    "```bash\n",
    "# copying a *local* file to a *remote* machine\n",
    "scp -i /path/to/your/private/key [local files to copy] [user name]@[host name or ip]:[path on remote machine]\n",
    "```\n",
    "\n",
    "to go in the other direction (*i.e.* copy remote files to your local machine), just flip the order between the `[local files to copy]` element and the `[user name]@[host name or ip]:[path on remote machine]` element.\n",
    "\n",
    "so for this particular copy operation:\n",
    "\n",
    "```bash\n",
    "scp -i /path/to/your/private/key /path/to/your/gu511_download_A.sh [your user name here]@[my aws ec2 ip]:~/gu511_download_A.sh\n",
    "\n",
    "# or\n",
    "\n",
    "scp -i /path/to/your/private/key /path/to/your/gu511_download_B.sh [your user name here]@[my aws ec2 ip]:~/gu511_download_B.sh\n",
    "```\n",
    "\n",
    "and then\n",
    "\n",
    "```bash\n",
    "scp -i /path/to/your/private/key /path/to/your/environment.yaml [your user name here]@[my aws ec2 ip]:~/\n",
    "```\n",
    "\n",
    "the final evaluation will be me running your script and creating `conda` environments using your `environment.yml` file and verifying that both behave as expected."
   ]
  }
 ],
 "metadata": {
  "kernelspec": {
   "display_name": "Python 3",
   "language": "python",
   "name": "python3"
  },
  "language_info": {
   "codemirror_mode": {
    "name": "ipython",
    "version": 3
   },
   "file_extension": ".py",
   "mimetype": "text/x-python",
   "name": "python",
   "nbconvert_exporter": "python",
   "pygments_lexer": "ipython3",
   "version": "3.6.2"
  }
 },
 "nbformat": 4,
 "nbformat_minor": 2
}
