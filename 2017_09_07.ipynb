{
 "cells": [
  {
   "cell_type": "markdown",
   "metadata": {},
   "source": [
    "# Exercises due by EOD 2017.09.07"
   ]
  },
  {
   "cell_type": "markdown",
   "metadata": {},
   "source": [
    "## goal"
   ]
  },
  {
   "cell_type": "markdown",
   "metadata": {},
   "source": [
    "For our first assignment, we will be collecting information about our laptops, our `aws` cloud servers, and the `aws` accounts we recently created. Our goals in this are \n",
    "\n",
    "1. to examine the dimensions of differences between our physical laptops and our cloud server capabilities\n",
    "2. to practice signing into and navigating the `aws` dashboard\n",
    "3. to identify the sort of information that other `aws` users or services might require for integration\n",
    "\n",
    "In addtion, I will ask everyone to create a `github` account and provide us with a link to that account."
   ]
  },
  {
   "cell_type": "markdown",
   "metadata": {},
   "source": [
    "## method of delivery"
   ]
  },
  {
   "cell_type": "markdown",
   "metadata": {},
   "source": [
    "as mentioned in our first lecture, the method of delivery may change from assignment to assignment. we will include this section in every assignment to provide an overview of how we expect homework results to be submitted, and to provide background notes or explanations for \"new\" delivery concepts or methods."
   ]
  },
  {
   "cell_type": "markdown",
   "metadata": {},
   "source": [
    "for this first assignment, though, we will keep things simple: \n",
    "\n",
    "1. submit homework answers **via email**\n",
    "2. subject should be \"gu511 exercises 2017.09.07\"\n",
    "3. recipient should be me ([rzl5@georgetown.edu](mailto:rzl5@georgetown.edu)), CCing [Carlos Blancarte](carlos.blancarte@elderresearch.com).\n",
    "4. the content should be\n",
    "    + exercise 1: a table of 18 values\n",
    "    + exercise 2: 3 screenshots\n",
    "    + exercise 3: 3 identifiers\n",
    "    + exercise 4: 4 values\n",
    "    + exercise 5: 1 github account name"
   ]
  },
  {
   "cell_type": "markdown",
   "metadata": {},
   "source": [
    "## exercise 1: computer details"
   ]
  },
  {
   "cell_type": "markdown",
   "metadata": {},
   "source": [
    "*fill out the elements in the following table and include them in the email:*\n",
    "\n",
    "|                               | my computer | my aws instance |\n",
    "|-------------------------------|-------------|-----------------|\n",
    "| operating system              |             |                 |\n",
    "| operating system version      |             |                 |\n",
    "| RAM                           |             |                 |\n",
    "| number of processor cores     |             |                 |\n",
    "| disk space (free)             |             |                 |\n",
    "| disk space (used)             |             |                 |\n",
    "| disk space (total)            |             |                 |\n",
    "| python version (if installed) |             |                 |\n",
    "| R version (if installed)      |             |                 |\n",
    "|                               |             |                 |\n",
    "\n",
    "*note*: we haven't discussed how to access the command line of your `aws` instance yet, so if you are unaware how to do so you do not need to fill out the `python` and `R` version information for your instance. if you know how to access those servers via `ssh`, however, the command line commands to get the `python` and `R` versions are simple:\n",
    "\n",
    "```bash\n",
    "# the aws ubuntu ami we used:\n",
    "python3 --version\n",
    "\n",
    "# other systems:\n",
    "python --version\n",
    "```\n",
    "\n",
    "and\n",
    "\n",
    "```bash\n",
    "R --version\n",
    "```"
   ]
  },
  {
   "cell_type": "markdown",
   "metadata": {},
   "source": [
    "## exercise 2: signing in to `aws`\n",
    "\n",
    "Let's practice signing in to the `aws` console. the block below is a refresher on how to log in to the `aws` console; the actual exercise is below under \"actual exercise 2\""
   ]
  },
  {
   "cell_type": "markdown",
   "metadata": {},
   "source": [
    "### a refresher on loging in to `aws`\n",
    "\n",
    "there are two types of accounts which can sign in:\n",
    "\n",
    "1. `root`\n",
    "2. `iam` user\n",
    "\n",
    "best practice is to reserve the `root` user for only the most essential tasks, and handle all general administrative items via the `iam` user we created in lesson 1.\n",
    "\n",
    "each type of account has a similar but *slightly* different way of logging in. your browser will likely push you toward the login method you most recently used to sign in, so it's important to know how to go from one to the other.\n",
    "\n",
    "there are three screen you might see.\n",
    "\n",
    "\n",
    "#### the general log-in screen\n",
    "\n",
    "<img align=\"center\" src=\"https://drive.google.com/uc?export=view&id=0ByQ4VmO-MwEESEprZEtldTVzd28\"></img>\n",
    "\n",
    "if you enter\n",
    "\n",
    "+ an email address, you will be taken to the `root` login screen\n",
    "+ an account id or an account alias, you will be taken to the `iam` login screen.\n",
    "\n",
    "\n",
    "#### the root login screen\n",
    "\n",
    "<img align=\"center\" src=\"https://drive.google.com/uc?export=view&id=0ByQ4VmO-MwEEcGpJMVVHQnZ6LVU\"></img>\n",
    "\n",
    "here you will use the password you entered when you created the account. if you click the \"Sign in to a different account\" link at the bottom, you will go back to the *general log-in screen*.\n",
    "\n",
    "after clicking the \"Sign In\" button, you will be taken to the MFA token authentication page:\n",
    "\n",
    "<img align=\"center\" src=\"https://drive.google.com/uc?export=view&id=0ByQ4VmO-MwEET2Jla2VTSWZOckk\"></img>\n",
    "\n",
    "at this point you should open your MFA app (Google Authenticator or Authy) and enter the first 6-digit number that is produced *for the root account* (you should have MFA tokens for both `root` and your `iam` user.\n",
    "\n",
    "\n",
    "#### the `iam` user login screen\n",
    "\n",
    "<img align=\"center\" src=\"https://drive.google.com/uc?export=view&id=0ByQ4VmO-MwEERFAteGM4Mzc2dGM\"></img>\n",
    "\n",
    "in the first cell of this page, you need to enter your `aws` account id (a unique 12-digit number that you can find on your \"My Account\" page as either and `iam` user or `root`). the second and third are for your `iam` user name and the password you gave that `iam` user when you created it.\n",
    "\n",
    "after clicking the \"Sign In\" button, you will be taken to the MFA token authentication page:\n",
    "\n",
    "<img align=\"center\" src=\"https://drive.google.com/uc?export=view&id=0ByQ4VmO-MwEEQndZMnc2a0NHOVk\"></img>\n",
    "\n",
    "at this point you should open your MFA app (Google Authenticator or Authy) and enter the first 6-digit number that is produced *for the `iam` user account* (you should have MFA tokens for both `root` and your `iam` user.\n",
    "\n",
    "\n",
    "#### account ids and aliases\n",
    "\n",
    "I mentioned in class that we could create an account alias to make loging in easier. I realize now I should have *required* it.\n",
    "\n",
    "from either the `root` or `iam` user, you can navigate to the `iam` service. On the \"Dashboard\" page of the `iam` service, the very top of the page lists the `iam` sign-in link. you can \"Customize\" this link -- this will give your account an `alias`, which should be something which is much easier to remember when signing in to your account than the 12 digit account id number.\n",
    "\n",
    "<img align=\"center\" src=\"https://drive.google.com/uc?export=view&id=0ByQ4VmO-MwEEX0xJWUlBcklzNlU\"></img>\n",
    "\n",
    "now users can either access this url directly, *or* they can use that alias text (in the picture example above, `gu511`) as the \"alias\" on the `iam` user login screen (two pictures above)."
   ]
  },
  {
   "cell_type": "markdown",
   "metadata": {},
   "source": [
    "### actual exercise 2\n",
    "\n",
    "*the task is to email us three screen shots as describe below*\n",
    "\n",
    "#### sign in as `root`\n",
    "\n",
    "We'll start by breaking our \"never sign in as `root`\" rule. follow the steps above to sign in to your `root` account.\n",
    "\n",
    "demonstrate that you have successfully signed in by sending us a screenshot of your user name as it appears in your `root` sign-in:\n",
    "\n",
    "<img align=\"center\" src=\"https://drive.google.com/uc?export=view&id=0ByQ4VmO-MwEEWGZVQ1dGR2duUWc\"></img>\n",
    "\n",
    "\n",
    "#### this annoying account id / alias thing\n",
    "\n",
    "while logged in as the `root` user, change your login link by adding an alias (as discussed in the section \"account ids and aliases\" above). send a screenshot of your login address:\n",
    "\n",
    "<img align=\"center\" src=\"https://drive.google.com/uc?export=view&id=0ByQ4VmO-MwEEbmt1Ty14anZkbGM\"></img>\n",
    "\n",
    "\n",
    "#### sign in as `iam` user\n",
    "\n",
    "use that alias login address to log in as your `iam` user. demonstrate that you have successfully signed in by sending us a screenshot of your user name as it appears in your `iam` user sign-in:\n",
    "\n",
    "<img align=\"center\" src=\"https://drive.google.com/uc?export=view&id=0ByQ4VmO-MwEES3hBLW1FMS12VzQ\"></img>"
   ]
  },
  {
   "cell_type": "markdown",
   "metadata": {},
   "source": [
    "## exercise 3: `aws` account info"
   ]
  },
  {
   "cell_type": "markdown",
   "metadata": {},
   "source": [
    "Answer the following questions:\n",
    "\n",
    "1. what is your `aws` account id?\n",
    "    1. this is a unique 12 digit number for every `aws` account\n",
    "    2. it can be found on your \"My Account\" page\n",
    "2. what is your `aws` account alias?\n",
    "    1. you created this in exercise 2\n",
    "    2. it can be found on your `iam` dashboard, on the first line\n",
    "3. what is your `iam` user's ARN (amazon resource name)?\n",
    "    1. an ARN is a unique identifier of resources, users, and services\n",
    "    2. ARNs are used throughout `aws` to manage permissions and communication\n",
    "    3. your user's ARN is found on a page within the `iam` service\n",
    "        1. go to the `iam` service\n",
    "        2. click on the \"Users\" left dashboard\n",
    "        3. click on your `iam` user name: <img align=\"center\" src=\"https://drive.google.com/uc?export=view&id=0ByQ4VmO-MwEEWHRzdlVNTWwyalU\"></img><br>\n",
    "        4. the ARN is in the first line of the summary: <img align=\"center\" src=\"https://drive.google.com/uc?export=view&id=0ByQ4VmO-MwEEVkJzR1hiTm1zSjg\"></img><br>"
   ]
  },
  {
   "cell_type": "markdown",
   "metadata": {},
   "source": [
    "## exercise 4: `ec2` instance details\n",
    "\n",
    "*email us the answers to the following questions about your `ec2` instance*\n",
    "\n",
    "all of the following items can be found on the `ec2 > Instances` dashboard\n",
    "\n",
    "<img align=\"center\" src=\"https://drive.google.com/uc?export=view&id=0ByQ4VmO-MwEEa2cwRi1DeGV6V28\"></img><br>\n",
    "\n",
    "1. what is your instance's instance type?\n",
    "2. what is your instance's instance id?\n",
    "    1. this is a unique identifier for every `ec2` server\n",
    "3. what are your instance's ip address and public DNS\n",
    "    1. if it doesn't have one, why not?\n",
    "4. what are your instance's security group inbound rules?\n",
    "    1. send all the security group rules as (port, protocol, source) triads"
   ]
  },
  {
   "cell_type": "markdown",
   "metadata": {},
   "source": [
    "## exercise 5: `github` account\n",
    "\n",
    "`git` is the most widely used version control system in the linux world, and `github` is the largest and most popular `git` repository management service. everyone should have a `github` account, and we ask every person in this course to have one. we will use `github` for some future homework assignments.\n",
    "\n",
    "for now, we request that you [create an account](https://github.com/join) if you don't already have one.\n",
    "\n",
    "*email us your github user name*\n",
    "\n",
    "for example, mine is `RZachLamberty` and my profile is [here](https://github.com/RZachLamberty)"
   ]
  }
 ],
 "metadata": {
  "kernelspec": {
   "display_name": "Python 3",
   "language": "python",
   "name": "python3"
  },
  "language_info": {
   "codemirror_mode": {
    "name": "ipython",
    "version": 3
   },
   "file_extension": ".py",
   "mimetype": "text/x-python",
   "name": "python",
   "nbconvert_exporter": "python",
   "pygments_lexer": "ipython3",
   "version": "3.6.1"
  }
 },
 "nbformat": 4,
 "nbformat_minor": 2
}
