{
 "cells": [
  {
   "cell_type": "markdown",
   "metadata": {},
   "source": [
    "# Exercises due by EOD 2017.09.14"
   ]
  },
  {
   "cell_type": "markdown",
   "metadata": {},
   "source": [
    "## goal"
   ]
  },
  {
   "cell_type": "markdown",
   "metadata": {},
   "source": [
    "In this set of exercises, we will review some of the detailed points of making `ssh` connections to and from servers, as well as review some of the most basic and useful `linux` shell commands"
   ]
  },
  {
   "cell_type": "markdown",
   "metadata": {},
   "source": [
    "## method of delivery"
   ]
  },
  {
   "cell_type": "markdown",
   "metadata": {},
   "source": [
    "as mentioned in our first lecture, the method of delivery may change from assignment to assignment. we will include this section in every assignment to provide an overview of how we expect homework results to be submitted, and to provide background notes or explanations for \"new\" delivery concepts or methods."
   ]
  },
  {
   "cell_type": "markdown",
   "metadata": {},
   "source": [
    "we will be expecting another **email** to [rzl5@georgetown.edu](rzl5@georgetown.edu) and [carlos.blancarte@elderresearch.com](carlos.blancarte@elderresearch.com), containing the four following bold items:\n",
    "\n",
    "+ exercise 1 and 2\n",
    "    + three items\n",
    "        + **a desired user name**\n",
    "        + **an ip address**\n",
    "        + **a public key**\n",
    "    + these items will be used to set up an ssh connection from your local computer / laptop to my `aws ec2` server\n",
    "+ exercises 3 and 4\n",
    "    + nothing to submit here -- you're on the honor system\n",
    "+ exercise 5\n",
    "    + one item\n",
    "        + **a decrypted secret message**\n",
    "    + there is an *encrypted* secret message in the body of exercise 5; your task is to use the `ssh_keys` notebook to decrypt that secret message and send it in the email with the other items"
   ]
  },
  {
   "cell_type": "markdown",
   "metadata": {},
   "source": [
    "## exercise 1: generating a public and private key pair"
   ]
  },
  {
   "cell_type": "markdown",
   "metadata": {},
   "source": [
    "create a public and private `ssh` key pair using the [RSA encryption algorithm](https://simple.wikipedia.org/wiki/RSA_%28algorithm%29). \n",
    "\n",
    "use the following programs (depending on your operating system)\n",
    "\n",
    "| os           | software                                                                     |\n",
    "|--------------|------------------------------------------------------------------------------|\n",
    "| windows      | [`puttygen`](https://www.chiark.greenend.org.uk/~sgtatham/putty/latest.html) |\n",
    "| mac or linux | `ssh-keygen` (part of the `openssh` package)                                 |\n",
    "\n",
    "while creating those two files, get a version of the public key in `openssh` RSA format for use in an `openssh authorized_keys` file\n",
    "\n",
    "+ this is the default for public keys created by `ssh-keygen`, so nothing more is needed here\n",
    "+ this is in the top window of the `puttygen` program on windowssh: <img align=\"middle\" src=\"http://drive.google.com/uc?export=view&id=0ByQ4VmO-MwEEaERhMUpIekNObFk\"></img>\n",
    "    + Either capture it when creating the key pair, or *load* the created key pair with the \"load\" button and capture it then\n",
    "\n",
    "a properly formatted `openssh` public key for an `authorized_keys` file will look like\n",
    "\n",
    "```\n",
    "ssh-rsa AAAAB3NzaC1yc2EAAAADAQABAAABAQCcPZIwNUzBD4jufWUPBLVzQRkPLRoJqMYgHUTH+7fdCvYGMMx+WiamyncGzcsMZpcSWDbGlCEuo//NTSc2CSS0jdgsDhBHHZ14kHO5A5zThrmNw0v/D9AH/BaE1B8ls++iDE2SmLMEQIAVD4IfmdWfkCwZaQto6hIb4XUXED/Jz8dWzG4opOpfgNMDiYK31y5qhgZQidaSdUNNOxBoCPaemHURp5SwBm+sbTnTQH4oza/FPkd24G3Ruh9TGIoBB5FGu+Qcz1tuGbk+8Iy6oWmWFa+Z+XtTpUbs5XHjptcbI5xXVsPdg360vK+drCWkJEvdIBEzQXwHDif985oX37rT zlamberty@megaman\n",
    "```\n",
    "\n",
    "remember: ***NEVER GIVE ANYONE THAT PRIVATE KEY!!!***"
   ]
  },
  {
   "cell_type": "markdown",
   "metadata": {},
   "source": [
    "## exercise 2: set up your login to *my* `ec2` instance"
   ]
  },
  {
   "cell_type": "markdown",
   "metadata": {},
   "source": [
    "send an email to [rzl5@georgetown.edu](mailto:rzl5@georgetown.edu) and [carlos.blancarte@elderresearch.com](carlos.blancarte@elderresearch.com) with the following info:\n",
    "\n",
    "1. a desired user name\n",
    "2. the `ip` address from which you want to connect\n",
    "3. the `openssh`-formatted **public** (not private) key from exercise 1 (see the formatting just above)\n",
    "\n",
    "we will respond to this email with an email notifying you that you should have access to our `ec2` instance. we will provide you with\n",
    "\n",
    "+ the server url\n",
    "+ confirmation of your user name"
   ]
  },
  {
   "cell_type": "markdown",
   "metadata": {},
   "source": [
    "## exercise 3: complete the \"learn `python` the hard way: command line crash course\""
   ]
  },
  {
   "cell_type": "markdown",
   "metadata": {},
   "source": [
    "walk through [this short linux tutorial](https://learnpythonthehardway.org/book/appendixa.html) for a second crash course in linux fundamentals\n",
    "\n",
    "*there is nothing to submit here*"
   ]
  },
  {
   "cell_type": "markdown",
   "metadata": {},
   "source": [
    "## exercise 4: walk through the `ssh` demo notebook with a partner"
   ]
  },
  {
   "cell_type": "markdown",
   "metadata": {},
   "source": [
    "Partner up with some one else in class and walk through the [`ssh_keys` notebook](ssh_keys.ipynb).\n",
    "\n",
    "Note: there are two ways to run the `ssh_keys.ipynb` notebook. The first and easiest is to open the notebook in Preview mode (*i.e.* just open the link), and then select the \"Clone\" button on the dashboard at the top. this may prompt you to create a MS Azure account, which we will do later in this course anyway.\n",
    "\n",
    "The other option is to *download the file locally* and to execute it locally using the command\n",
    "\n",
    "```bash\n",
    "cd /path/to/directory/this/notebook/is/in\n",
    "jupyter notebook\n",
    "```\n",
    "\n",
    "this assumes you have `python` version 3 and the `jupyter` and `notebook` packages installed.\n",
    "\n",
    "\n",
    "*there is nothing to submit here*"
   ]
  },
  {
   "cell_type": "markdown",
   "metadata": {},
   "source": [
    "## exercise 5: decoding *our* message"
   ]
  },
  {
   "cell_type": "markdown",
   "metadata": {},
   "source": [
    "using the [`ssh_keys` notebook](ssh_keys.ipynb) from exercise 4, decode *our* message.\n",
    "\n",
    "we will be using the `RSA` encryption algorithm, so follow along with the [\"making it a bit harder: RSA\" section](ssh_keys.ipynb#making-it-a-bit-harder:-RSA). We (Carlos and I) are partner 2; you are partner 1."
   ]
  },
  {
   "cell_type": "markdown",
   "metadata": {},
   "source": [
    "#### 5.1: setting up your public / private key\n",
    "\n",
    "leave `p` and `q` as is:\n",
    "\n",
    "```python\n",
    "p = 1987\n",
    "q = 13\n",
    "```\n",
    "\n",
    "instead of picking a random value of `e` which satisfies the coprime condition, hard-code `e` to have a value of 451. there is a commented out cell in that `ssh_keys` notebook -- un-comment-out the line\n",
    "\n",
    "```python\n",
    "e = 451\n",
    "```\n",
    "\n",
    "After doing this, you should have\n",
    "\n",
    "+ `(p, q, e) = (1987, 13, 451)`\n",
    "+ your public key values are `(n, e) = (25831, 451)`\n",
    "+ your private key values will be `(n, d) = (25831, 1735)`"
   ]
  },
  {
   "cell_type": "markdown",
   "metadata": {},
   "source": [
    "#### 5.2: receiving an encrypted message\n",
    "\n",
    "We (Carlos and I) have encoded a message using using your public key information, and the encrypted version of our message is:\n",
    "\n",
    "```\n",
    "15417\n",
    "```\n",
    "\n",
    "what was our original message?\n",
    "\n",
    "**include this original message in your email to us**"
   ]
  }
 ],
 "metadata": {
  "kernelspec": {
   "display_name": "Python 3",
   "language": "python",
   "name": "python3"
  },
  "language_info": {
   "codemirror_mode": {
    "name": "ipython",
    "version": 3
   },
   "file_extension": ".py",
   "mimetype": "text/x-python",
   "name": "python",
   "nbconvert_exporter": "python",
   "pygments_lexer": "ipython3",
   "version": "3.6.2"
  }
 },
 "nbformat": 4,
 "nbformat_minor": 2
}
