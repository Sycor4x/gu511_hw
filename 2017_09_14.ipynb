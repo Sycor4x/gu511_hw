{
 "cells": [
  {
   "cell_type": "markdown",
   "metadata": {},
   "source": [
    "# Exercises due by EOD 2017.09.14"
   ]
  },
  {
   "cell_type": "markdown",
   "metadata": {},
   "source": [
    "## goal"
   ]
  },
  {
   "cell_type": "markdown",
   "metadata": {},
   "source": [
    "In this set of exercises, we will review some of the detailed points of making `ssh` connections to and from servers, as well as review some of the most basic and useful `linux` shell commands"
   ]
  },
  {
   "cell_type": "markdown",
   "metadata": {},
   "source": [
    "## method of delivery"
   ]
  },
  {
   "cell_type": "markdown",
   "metadata": {},
   "source": [
    "as mentioned in our first lecture, the method of delivery may change from assignment to assignment. we will include this section in every assignment to provide an overview of how we expect homework results to be submitted, and to provide background notes or explanations for \"new\" delivery concepts or methods."
   ]
  },
  {
   "cell_type": "markdown",
   "metadata": {},
   "source": [
    "there are two things that will need to be delivered and two different ways (in **bold** below) to deliver them\n",
    "\n",
    "+ exercise 1 and 2\n",
    "    + the results of this will be three items (a user name, an ip address, and a public key)\n",
    "    + these must be **emailed** to [rzl5@georgetown.edu](rzl5@georgetown.edu) and [carlos.blancarte@elderresearch.com](carlos.blancarte@elderresearch.com)\n",
    "    + these items will be used to set up an ssh connection from your local computer / laptop to my `aws ec2` server\n",
    "+ exercises 3 - 4\n",
    "    + nothing to submit for these -- you're on the honor system\n",
    "+ exercise 5A *or* 5B\n",
    "    + you only need to complete one of these two\n",
    "    + the result of several steps will be a single shell script file named `gu511_download.sh`\n",
    "    + in the following exercise 6 you will use the `ssh` connection set up as a result of exercises 1 and 2 to copy the bash script to your home directory on my `ec2` instance\n",
    "+ exercise 6\n",
    "    + you will **secure copy (`scp`)** the script you wrote in exercise 5 to my `ec2` server \n",
    "    + the final result will be a file `~/gu511_download.sh` in *your* user directory on *my* `ec2` server\n",
    "    + I will execute that shell script as your user to verify it works as expected"
   ]
  },
  {
   "cell_type": "markdown",
   "metadata": {},
   "source": [
    "## exercise 1: generating a public and private key pair"
   ]
  },
  {
   "cell_type": "markdown",
   "metadata": {},
   "source": [
    "create a public and private `ssh` key pair using the [RSA encryption algorithm](https://simple.wikipedia.org/wiki/RSA_%28algorithm%29). \n",
    "\n",
    "use the following programs (depending on your operating system)\n",
    "\n",
    "| os           | software                                                                     |\n",
    "|--------------|------------------------------------------------------------------------------|\n",
    "| windows      | [`puttygen`](https://www.chiark.greenend.org.uk/~sgtatham/putty/latest.html) |\n",
    "| mac or linux | `ssh-keygen` (part of the `openssh` package)                                 |\n",
    "\n",
    "while creating those two files, get a version of the public key in `openssh` RSA format for use in an `openssh authorized_keys` file\n",
    "\n",
    "+ this is the default for public keys created by `ssh-keygen`, so nothing more is needed here\n",
    "+ this is in the top window of the `puttygen` program on windowssh: <img align=\"center\" src=\"http://drive.google.com/uc?export=view&id=0ByQ4VmO-MwEEaERhMUpIekNObFk\"></img>\n",
    "    + Either capture it when creating the key pair, or *load* the created key pair with the \"load\" button and capture it then\n",
    "\n",
    "a properly formatted `openssh` public key for an `authorized_keys` file will look like\n",
    "\n",
    "```\n",
    "ssh-rsa AAAAB3NzaC1yc2EAAAADAQABAAABAQCcPZIwNUzBD4jufWUPBLVzQRkPLRoJqMYgHUTH+7fdCvYGMMx+WiamyncGzcsMZpcSWDbGlCEuo//NTSc2CSS0jdgsDhBHHZ14kHO5A5zThrmNw0v/D9AH/BaE1B8ls++iDE2SmLMEQIAVD4IfmdWfkCwZaQto6hIb4XUXED/Jz8dWzG4opOpfgNMDiYK31y5qhgZQidaSdUNNOxBoCPaemHURp5SwBm+sbTnTQH4oza/FPkd24G3Ruh9TGIoBB5FGu+Qcz1tuGbk+8Iy6oWmWFa+Z+XtTpUbs5XHjptcbI5xXVsPdg360vK+drCWkJEvdIBEzQXwHDif985oX37rT zlamberty@megaman\n",
    "```\n",
    "\n",
    "remember: ***NEVER GIVE ANYONE THAT PRIVATE KEY!!!***"
   ]
  },
  {
   "cell_type": "markdown",
   "metadata": {},
   "source": [
    "## exercise 2: log in to *my* `ec2` instance"
   ]
  },
  {
   "cell_type": "markdown",
   "metadata": {},
   "source": [
    "send an email to [rzl5@georgetown.edu](mailto:rzl5@georgetown.edu) and [carlos.blancarte@elderresearch.com](carlos.blancarte@elderresearch.com) with the following info:\n",
    "\n",
    "1. a desired user name\n",
    "2. the `ip` address from which you want to connect\n",
    "3. the `openssh`-formatted **public** (not private) key from exercise 1 (see the formatting just above)\n",
    "\n",
    "we will respond to this email with an email notifying you that you should have access to our `ec2` instance. we will provide you with\n",
    "\n",
    "+ the server url\n",
    "+ confirmation of your user name"
   ]
  },
  {
   "cell_type": "markdown",
   "metadata": {},
   "source": [
    "## exercise 3: walk through the `ssh` demo notebook with a partner"
   ]
  },
  {
   "cell_type": "markdown",
   "metadata": {},
   "source": [
    "Partner up with some one else in class and walk through the [`ssh_keys` notebook](ssh_keys.ipynb).\n",
    "\n",
    "Note: there are two ways to run the `ssh_keys.ipynb` notebook. The first and easiest is to open the notebook in Preview mode (*i.e.* just open the link), and then select the \"Clone\" button on the dashboard at the top. this may prompt you to create a MS Azure account, which we will do later in this course anyway.\n",
    "\n",
    "The other option is to *download the file locally* and to execute it locally using the command\n",
    "\n",
    "```bash\n",
    "cd /path/to/directory/this/notebook/is/in\n",
    "jupyter notebook\n",
    "```\n",
    "\n",
    "this assumes you have `python` version 3 and the `jupyter` and `notebook` packages installed.\n",
    "\n",
    "\n",
    "*there is nothing to submit here*"
   ]
  },
  {
   "cell_type": "markdown",
   "metadata": {},
   "source": [
    "## exercise 4: complete the \"learn `python` the hard way: command line crash course\""
   ]
  },
  {
   "cell_type": "markdown",
   "metadata": {},
   "source": [
    "walk through [this short linux tutorial](https://learnpythonthehardway.org/book/appendixa.html) for a second crash course in linux fundamentals\n",
    "\n",
    "*there is nothing to submit here*"
   ]
  },
  {
   "cell_type": "markdown",
   "metadata": {},
   "source": [
    "## exercise 5: creating a useful bash script "
   ]
  },
  {
   "cell_type": "markdown",
   "metadata": {},
   "source": [
    "both of the following will be graded equivalently, so choose based on your familiarity with linux or desire for a challenge"
   ]
  },
  {
   "cell_type": "markdown",
   "metadata": {},
   "source": [
    "### exercise 5.A: creating a \"useful\" bash script (linux beginners)"
   ]
  },
  {
   "cell_type": "markdown",
   "metadata": {},
   "source": [
    "we're going to write a bash script that will download current weather information at DCA (Reagan National Airport). we'll do this in stages:\n",
    "\n",
    "1. create a directory to hold our data\n",
    "2. download the current weather and delay status for DCA (Reagan Washington National airport)\n",
    "3. print a status message indicating whether or not we were successful to a log file\n",
    "\n",
    "to create this script, we will move one step at a time; the final script will just be all of the commands put together into one script"
   ]
  },
  {
   "cell_type": "markdown",
   "metadata": {},
   "source": [
    "#### create a directory\n",
    "\n",
    "write a command to make a directory `~/data/weather/`, and not to throw an error if that directory already exists"
   ]
  },
  {
   "cell_type": "markdown",
   "metadata": {},
   "source": [
    "#### download the current weather and delay status for DCA\n",
    "\n",
    "the FAA (Federal Aviation Administration) has created [a RESTful `xml` and `json` formatted endpoint](http://services.faa.gov/docs/services/airport/) for basic information about airports -- thanks, FFA!\n",
    "\n",
    "the endpoint of that API is http://services.faa.gov/docs/services/airport/airportCode, and it expects one of two values for the \"format\" method:\n",
    "\n",
    "+ `application/xml`\n",
    "+ `application/json`\n",
    "\n",
    "let's shoot for DCA's `json` formatted output head to http://services.faa.gov/docs/services/airport/DCA?format=application/xml in your browser.\n",
    "\n",
    "using a command line tool, download the json results of that API call to a file named \n",
    "\n",
    "`~/data/dca.weather.json`"
   ]
  },
  {
   "cell_type": "markdown",
   "metadata": {},
   "source": [
    "#### print a status message to a log file\n",
    "\n",
    "let's get the following for a status message:\n",
    "\n",
    "1. the current time\n",
    "2. the result of the previous command (the download command) -- just as an error code, nothing more complicated than that\n",
    "\n",
    "the end result should be a line formatted like\n",
    "\n",
    "```\n",
    "YYYY-mm-dd HH:MM:SS    dca_weather.sh    command status code was: [status code here]\n",
    "```\n",
    "\n",
    "write a command to save the current time to a variable called `$NOW`.\n",
    "\n",
    "once you can construct such a line, *append* that line to a log file at `~/data/eversource/download.log`"
   ]
  },
  {
   "cell_type": "markdown",
   "metadata": {},
   "source": [
    "#### combine all of the above into a bash script\n",
    "\n",
    "create a file called `gu511_download.sh` to the following format:\n",
    "\n",
    "```bash\n",
    "#!/bin/bash\n",
    "\n",
    "# the following line(s) creates the directory \n",
    "# ~/data/weather if needed\n",
    "FILL THIS IN\n",
    "\n",
    "# the following line(s) downloads the current weather \n",
    "# and delay status for DCA\n",
    "FILL THIS IN\n",
    "\n",
    "# the following line(s) write a log message to file \n",
    "# indicating status code of previous line \n",
    "FILL THIS IN\n",
    "\n",
    "# exit with the most recent error code -- you can\n",
    "# leave this line alone\n",
    "exit $?\n",
    "```"
   ]
  },
  {
   "cell_type": "markdown",
   "metadata": {},
   "source": [
    "#### submit this file: see exercise 6 below"
   ]
  },
  {
   "cell_type": "markdown",
   "metadata": {},
   "source": [
    "### exercise 5.B: create a *useful* bash script (advanced linux users)"
   ]
  },
  {
   "cell_type": "markdown",
   "metadata": {},
   "source": [
    "we're going to write a bash script that will download an arbitrary number of urls from a text file in a highly parallel way. we'll write this script in stages:\n",
    "\n",
    "1. create a directory to hold our downloaded data\n",
    "2. download the current weather and delay status for DCA (Reagan Washington National airport)\n",
    "3. print a status message indicating whether or not we were successful to a log file\n",
    "\n",
    "to create this script, we will move one step at a time; the final script will just be all of the commands put together into one script"
   ]
  },
  {
   "cell_type": "markdown",
   "metadata": {},
   "source": [
    "#### create a test csv\n",
    "\n",
    "execute the following commands to create a list of test urls for downloading:\n",
    "\n",
    "```bash\n",
    "echo www.google.com >> /tmp/test.urls\n",
    "echo www.georgetown.edu >> /tmp/test.urls\n",
    "echo www.elderresearch.com >> /tmp/test.urls\n",
    "echo www.twitter.com >> /tmp/test.urls\n",
    "echo www.facebook.com >> /tmp/test.urls\n",
    "```"
   ]
  },
  {
   "cell_type": "markdown",
   "metadata": {},
   "source": [
    "#### create a directory\n",
    "\n",
    "write a command to make a directory `~/data/downloads/`, and not to throw an error if that directory already exists"
   ]
  },
  {
   "cell_type": "markdown",
   "metadata": {},
   "source": [
    "#### write a command to print the contents of `test.csv` of urls to `stdout`\n",
    "\n",
    "print the contents of `test.csv` to the terminal (for piping to a later function)"
   ]
  },
  {
   "cell_type": "markdown",
   "metadata": {},
   "source": [
    "#### use `xargs` to pipe the contents of `test.urls` to the `echo` function\n",
    "\n",
    "soon we will write a function which will take a *single* url and download it. to pass many urls to this script and to create several forks (separate processes which will work in parallel) we will use the `xargs` command.\n",
    "\n",
    "let's get some practice with the `xargs` command before trying to use it for our download function. in particular, let's look at the following flags:\n",
    "\n",
    "1. `-P` or `--max-procs`: specify the maximum number of separate processes we should start (default is 1, 0 is interpreted as \"maximum number possible\")\n",
    "2. `-n`: in conjunction with `-P`, the number of items passed to each process\n",
    "3. `-I`: specify which sequence of characters in the command to follow should be replaced with the item passed in by `xargs`. a somewhat common option is `{}` because it is unlikely to be meaningful in any command that follows. that must be escaped, though -- see below\n",
    "\n",
    "as an example, check out the results of the following:\n",
    "\n",
    "```bash\n",
    "cat /tmp/test.urls | xargs -P 100 -n 3 -I{} echo url is \\{\\}\n",
    "```"
   ]
  },
  {
   "cell_type": "markdown",
   "metadata": {},
   "source": [
    "#### `curl` one of those urls\n",
    "\n",
    "take one of those urls -- say, www.google.com -- and download it to a file. do the following:\n",
    "\n",
    "1. run it in \"silent\" mode\n",
    "2. cap the maximum time the whole download operation should take at 10 seconds\n",
    "3. write the contents of that download to a file in `~/data/downloads` with a the same name as the final portion (the `basename` of that url)\n",
    "\n",
    "*hint*: suppose we have the url is a bash variable `$URL`. we could write\n",
    "\n",
    "```bash\n",
    "curl [silent flag and maximum download time flag] $URL > ~/data/downloads/$(basename $URL)\n",
    "```\n",
    "\n",
    "the `basename` piece is necessary for urls which are more complicated than just `www.xxxxxxxx.com`, such as `www.xxxxxxxx.com/a/longer/path/with?stuff=x&other_stuff=y`\n",
    "\n",
    "verify that the downloaded contents for one test url match the source on the corresponding webpage"
   ]
  },
  {
   "cell_type": "markdown",
   "metadata": {},
   "source": [
    "#### export that `curl` statement as a function\n",
    "\n",
    "you can create a bash function using the syntax\n",
    "\n",
    "```bash\n",
    "function my_function_name {\n",
    "    # do bash stuff\n",
    "}\n",
    "```\n",
    "\n",
    "arguments are passed to this function as bash variables `$1`, `$2`, and so on, such that if you write\n",
    "\n",
    "```bash\n",
    "my_function_name arg1 arg2 arg3 arg4\n",
    "```\n",
    "\n",
    "these will be \"available\" within the body of the function as\n",
    "\n",
    "| variable name | value |\n",
    "|---------------|-------|\n",
    "| `$1`          | arg1  |\n",
    "| `$2`          | arg2  |\n",
    "| `$3`          | arg3  |\n",
    "| `$4`          | arg4  |\n",
    "\n",
    "for example, if we wanted to turn our echo command up above into a super l33t re-usable function, we could write\n",
    "\n",
    "```bash\n",
    "function l33t_url_echo {\n",
    "    echo \"the url is $1\"\n",
    "}\n",
    "\n",
    "# test it out\n",
    "l33t_url_echo www.google.com\n",
    "```\n",
    "\n",
    "we could also make this available in other bash shells be `export`-ing it:\n",
    "\n",
    "```bash\n",
    "export -f l33t_url_echo\n",
    "```\n",
    "\n",
    "so, let's talk about **what you should actually do**:\n",
    "\n",
    "1. convert your `curl` statement from before into a bash function that will take a url as a parameter\n",
    "2. export it for use in other bash sessions"
   ]
  },
  {
   "cell_type": "markdown",
   "metadata": {},
   "source": [
    "#### use that function with `xargs` on your test urls\n",
    "\n",
    "for each of the urls filtered by `xargs` we want to run the newly-minted `bash` function with that url as the argument.\n",
    "\n",
    "for example, if we wanted to use our `l33t_url_echo` function from above, we could write:\n",
    "\n",
    "```bash\n",
    "# ...it pays to read ahead...\n",
    "cat /tmp/test.urls | xargs -P 100 -n 3 -I{} bash -c l33t_url_echo\\ \\{\\}\n",
    "```\n",
    "\n",
    "in the above, the actual *command* we are executing with `xargs` is the `bash` command, which\n",
    "\n",
    "1. starts a new `bash` shell\n",
    "2. executes the *command* following flag `-c` (that's what the `-c` flag *is*)\n",
    "3. replaces the occurrence of `\\{\\}` with whatever url is available\n",
    "4. special characters such as spaces and braces need to be escaped to be passed in using the `-c` command\n",
    "\n",
    "write your own version of the command above, replacing `l33t_url_echo` with the function you created previously.\n",
    "\n",
    "delete all of the items in `~/data/downloads` to start from scratch, and run the whole `cat + xargs + your_function` line. verify it downloads each test url."
   ]
  },
  {
   "cell_type": "markdown",
   "metadata": {},
   "source": [
    "#### combine all of the above into a bash script\n",
    "\n",
    "create a file called `gu511_download.sh` to the following format:\n",
    "\n",
    "```bash\n",
    "#!/bin/bash\n",
    "\n",
    "# the following line(s) creates the directory \n",
    "# ~/data/downloads if needed\n",
    "FILL THIS IN\n",
    "\n",
    "# the following line(s) define our single-url curl\n",
    "# download function\n",
    "FILL THIS IN\n",
    "\n",
    "# the following line(s) export that function for use\n",
    "# in other bash session\n",
    "FILL THIS IN\n",
    "\n",
    "# the following line is the \"cat + xargs + your_function\"\n",
    "# line from the previous step\n",
    "FILL THIS IN\n",
    "\n",
    "# exit with the most recent error code -- you can\n",
    "# leave this line alone\n",
    "exit $?\n",
    "```"
   ]
  },
  {
   "cell_type": "markdown",
   "metadata": {},
   "source": [
    "##### postscript\n",
    "\n",
    "*if everything went according to plan, this script should be among the fastest download programs I've ever come across (no exageration there). it was useful enough that I put it and some variants on a github repo I own.*\n",
    "\n",
    "*...it **really** pays to read ahead...*"
   ]
  },
  {
   "cell_type": "markdown",
   "metadata": {},
   "source": [
    "#### submit this file: see exercise 6 below"
   ]
  },
  {
   "cell_type": "markdown",
   "metadata": {},
   "source": [
    "## exercise 6: submitting your homework\n",
    "\n",
    "### tangent about how your `ssh` access was set up\n",
    "\n",
    "in exercise 1 and 2 you created a public key and sent it to me along with a user name and an ip address.\n",
    "\n",
    "after receiving them, I will do the following:\n",
    "\n",
    "```bash\n",
    "# created a user for you with your suggested user name\n",
    "# this user cannot log in with password -- only via ssh keys\n",
    "sudo adduser --disable-password [YOUR USER NAME HERE]\n",
    "\n",
    "# created a ~/.ssh folder with the expected ownership values\n",
    "# and permissions\n",
    "sudo mkdir -p ~[YOUR USER NAME HERE]/.ssh\n",
    "sudo chown [YOUR USER NAME HERE]:[YOUR USER NAME HERE] ~[YOUR USER NAME HERE]/.ssh\n",
    "sudo chmod 700 ~[YOUR USER NAME HERE]/.ssh\n",
    "\n",
    "# create an ~/.ssh/authorized_keys file with the expected\n",
    "# ownership values and permissions, and your public key\n",
    "# inside\n",
    "sudo echo [YOUR PUBLIC KEY] >> ~[YOUR USER NAME HERE]/.ssh/authorized_keys\n",
    "```\n",
    "\n",
    "after all of the above, you should be able to log in to my `ec2` instance.\n",
    "\n",
    "I will respond to you with your user name and my ip address. you should then be able to log in to my `ec2` server with the command\n",
    "\n",
    "```bash\n",
    "ssh -i /path/to/your/private/key [YOUR USER NAME HERE]@[MY EC2 IP ADDRESS HERE]\n",
    "```\n",
    "\n",
    "### actually doing exercise 6\n",
    "\n",
    "the point of this exercise is to use `scp` (the SSH copy command) or some secure copy application (e.g. WinSCP or Filezilla) to copy your bash script file to my `ec2` server.\n",
    "\n",
    "you should copy it into your home directory (`~`, `/home/[YOUR USER NAME HERE]`) and keep the file name as `gu511_download.sh`.\n",
    "\n",
    "if you are using `scp`, the general structure of the command is\n",
    "\n",
    "```bash\n",
    "# copying a *local* file to a *remote* machine\n",
    "scp -i /path/to/your/private/key [local files to copy] [user name]@[host name or ip]:[path on remote machine]\n",
    "```\n",
    "\n",
    "to go in the other direction, just flip the order between the `[local files to copy]` element and the `[user name]@[host name or ip]:[path on remote machine]` element.\n",
    "\n",
    "so for this particular copy operation:\n",
    "\n",
    "```bash\n",
    "scp -i /path/to/your/private/key /path/to/your/gu511_download.sh [your user name here]@[my aws ec2 ip]:~/gu511_download.sh\n",
    "```\n",
    "\n",
    "the final evaluation will be me running your script and verifying that the behavior is as expected."
   ]
  }
 ],
 "metadata": {
  "kernelspec": {
   "display_name": "Python 3",
   "language": "python",
   "name": "python3"
  },
  "language_info": {
   "codemirror_mode": {
    "name": "ipython",
    "version": 3
   },
   "file_extension": ".py",
   "mimetype": "text/x-python",
   "name": "python",
   "nbconvert_exporter": "python",
   "pygments_lexer": "ipython3",
   "version": "3.6.1"
  }
 },
 "nbformat": 4,
 "nbformat_minor": 2
}
