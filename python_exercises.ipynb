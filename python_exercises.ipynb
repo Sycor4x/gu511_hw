{
 "cells": [
  {
   "cell_type": "markdown",
   "metadata": {},
   "source": [
    "# creating a `conda` environmen\n",
    "\n",
    "first, read [the documentation on creating and managing conda environments](https://conda.io/docs/user-guide/tasks/manage-environments.html).\n",
    "\n",
    "once you've done that, create a conda environment called `gu511` with `python` version 3.5 and install into *that environment* (not your root environment) the following packages:\n",
    "\n",
    "+ `jupyter`\n",
    "+ `pandas`\n",
    "+ `plotly`\n",
    "+ `scikit-learn`\n",
    "\n",
    "use the [environment sharing `export` command](https://conda.io/docs/user-guide/tasks/manage-environments.html#sharing-an-environment) to create an `environment.yml` file.\n",
    "\n",
    "view that file with `less` and figure out what it is saying about your `conda` environment, and how some one might use that file"
   ]
  },
  {
   "cell_type": "markdown",
   "metadata": {},
   "source": [
    "# launching a `jupyter` notebook\n",
    "\n",
    "let's use a `conda` environment and the `jupyter` package to create a notebook server. you're going to connect to that notebook server with your web browser to open and edit notebook files. you need to choose whether you want to do that *locally* or *remotely*\n",
    "\n",
    "\n",
    "## local (laptop) notebook server\n",
    "\n",
    "*if* you have `conda` installed locally, create the environment locally, and launch the `jupyter` notebook server locally, you will be able to access the notebooks being served up by this local service at the url http://localhost:8888/\n",
    "\n",
    "\n",
    "## remote (`ec2`) notebook server\n",
    "\n",
    "*if, however,* you decide to do all of the above on your `ec2` server, you will need to do one of the following:\n",
    "\n",
    "1. open your notebook server to the outside world\n",
    "    1. launch `jupyter notebook` with the `--ip` parameter set to `127.0.0.1`\n",
    "        + this causes your `jupyter` service to *listen* for requests from outside the `ec2` server as well as from within (the default behavior is within only)\n",
    "    2. open the port (default: 8888) to your ip to the world (via the `ec2` console)\n",
    "    3. access the service at http://your.ec2.ip.address:8888/\n",
    "2. use `ssh` tunnel port forwarding\n",
    "    1. this is a way of suggesting that requests on your *local* port 8888 be redirected over the ssh tunnel to your `ec2` server, where they are routed to the `ec2` port 8888.\n",
    "    2. from linux or mac, the command is: `ssh -N -f -L localhost:[PORT YOU WANT LOCALLY]:localhost:[PORT JUPYTER IS RUNNING ON REMOTELY] [USER@HOSTNAME  or  SSH_CONFIG_ALIAS]`"
   ]
  },
  {
   "cell_type": "markdown",
   "metadata": {},
   "source": [
    "# web scraping with `requests`\n",
    "\n",
    "the `requests` library is one of the most popular non-standard-library packages in the `python` world. Think of this as the `curl` of `python`: a general use library for handling web requests in a RESTful framework (`GET, POST`, etc).\n",
    "\n",
    "for starters, make sure that you have installed `requests` in whatever `python` environment you are using (e.g. the environment from the previous assignment:\n",
    "\n",
    "```bash\n",
    "conda install requests\n",
    "```\n",
    "\n",
    "## read the gosh darned manual\n",
    "\n",
    "take a minute to [read through the introductory documentation](http://docs.python-requests.org/en/master/) before moving on\n",
    "\n",
    "\n",
    "## a first `request`\n",
    "\n",
    "\n",
    "## `json`\n",
    "\n",
    "sometimes there are data provider heros who expose their data to you in the form of a `json` api -- this makes everything easier \n",
    "\n",
    "## `css` selectors\n",
    "\n",
    "## `lxml` and `xpath`"
   ]
  },
  {
   "cell_type": "markdown",
   "metadata": {},
   "source": [
    "*I'm putting the above on hold as it feels like it is a bit of a diversion from the intent of the coure*"
   ]
  },
  {
   "cell_type": "markdown",
   "metadata": {},
   "source": [
    "# `pandas`, `scikit-learn`, `plotly`\n",
    "\n",
    "I put all of this in a separate `jupyter` notebook that they could fill in and run on their own: `ds_pipeline.ipynb`"
   ]
  }
 ],
 "metadata": {
  "kernelspec": {
   "display_name": "Python 3",
   "language": "python",
   "name": "python3"
  },
  "language_info": {
   "codemirror_mode": {
    "name": "ipython",
    "version": 3
   },
   "file_extension": ".py",
   "mimetype": "text/x-python",
   "name": "python",
   "nbconvert_exporter": "python",
   "pygments_lexer": "ipython3",
   "version": "3.6.2"
  }
 },
 "nbformat": 4,
 "nbformat_minor": 2
}
